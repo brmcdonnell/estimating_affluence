{
 "cells": [
  {
   "cell_type": "markdown",
   "metadata": {},
   "source": [
    "# Using Zillow API and Scrapy to Extract Housing Information Data"
   ]
  },
  {
   "cell_type": "markdown",
   "metadata": {},
   "source": [
    "**Author:** Brendan McDonnell"
   ]
  },
  {
   "cell_type": "markdown",
   "metadata": {},
   "source": [
    "I built a script that pulls information (slowly, very slowly) from Zillow.com using Scrapy by feeding a list of zip codes into a brute force algorithm. The final data is messy and raw and will need some extensive EDA before we can use it in our model."
   ]
  },
  {
   "cell_type": "code",
   "execution_count": 2,
   "metadata": {},
   "outputs": [],
   "source": [
    "import pandas as pd\n",
    "import requests\n",
    "import scrapy\n",
    "from scrapy_splash import SplashRequest\n",
    "import time"
   ]
  },
  {
   "cell_type": "code",
   "execution_count": 3,
   "metadata": {},
   "outputs": [],
   "source": [
    "csv = pd.read_csv('data/mhi_classified_zips.csv')"
   ]
  },
  {
   "cell_type": "code",
   "execution_count": 4,
   "metadata": {},
   "outputs": [],
   "source": [
    "zip_list = list(csv['Zip'])"
   ]
  },
  {
   "cell_type": "code",
   "execution_count": 6,
   "metadata": {},
   "outputs": [
    {
     "data": {
      "text/plain": [
       "319"
      ]
     },
     "execution_count": 6,
     "metadata": {},
     "output_type": "execute_result"
    }
   ],
   "source": [
    "len(zip_list)"
   ]
  },
  {
   "cell_type": "code",
   "execution_count": 8,
   "metadata": {},
   "outputs": [],
   "source": [
    "# headers so the website doesn't hit me with the captcha\n",
    "\n",
    "header = {\n",
    "    'accept': 'text/html,application/xhtml+xml,application/xml;q=0.9,image/webp,*/*;q=0.8',\n",
    "               'accept-encoding': 'gzip, deflate, sdch, br',\n",
    "               'accept-language': 'en-GB,en;q=0.8,en-US;q=0.6,ml;q=0.4',\n",
    "               'cache-control': 'max-age=0',\n",
    "               'upgrade-insecure-requests': '1',\n",
    "               'user-agent': 'Mozilla/5.0 (Windows NT 10.0; Win64; x64) AppleWebKit/537.36 (KHTML, like Gecko) Chrome/75.0.3770.142 Safari/537.36'}\n",
    "\n",
    "# initialize house_dict to build dataframe\n",
    "\n",
    "house_dict = {'address': [],\n",
    "              'type': [],\n",
    "              'price': [],\n",
    "              'features': [],\n",
    "              'labels': [],\n",
    "             }\n",
    "\n",
    "# build the base url & zip code list\n",
    "\n",
    "url_base = 'https://www.zillow.com/'\n",
    "\n",
    "for zip_code in zip_list:\n",
    "    url_zip = url_base + f'homes/{zip_code}_rb/'\n",
    "    time.sleep(1)\n",
    "    for j in range(1,100):\n",
    "        url = url_zip + f'p_{j}/'\n",
    "        res = requests.get(url=url, headers=header)\n",
    "        if res.status_code == 200: # is the website giving me a response\n",
    "            sel = scrapy.Selector(text=res.content)\n",
    "            for house in sel.css('div.result-list-container>ul>li>article>a'):\n",
    "                house_dict['address'].append(house.css('h3::text').extract_first())\n",
    "                house_dict['type'].append(house.css('div.list-card-type::text').extract_first())\n",
    "                house_dict['price'].append(house.css('div.list-card-heading>div.list-card-price::text').extract_first())\n",
    "                list_of_feat = house.css('div.list-card-heading>ul>li::text').extract()\n",
    "                list_of_labels = list(set(house.css('div.list-card-heading>ul>li>span::text').extract()))\n",
    "                list_of_labels.remove(' ')\n",
    "                house_dict['features'].append(list_of_feat)\n",
    "                house_dict['labels'].append(list_of_labels)\n",
    "#                 while len(list_of_feat) != 3:\n",
    "#                     list_of_feat.append(' ')\n",
    "#                     list_of_labels.append(' ')\n",
    "#                 length = 3\n",
    "#                 while length > 0:\n",
    "#                     house_dict[f'feat{length}'].append(list_of_feat[3-length] + ' ' + list_of_labels[length-4])\n",
    "#                     length -= 1\n",
    "                time.sleep(1)                    \n",
    "        else:\n",
    "            break"
   ]
  },
  {
   "cell_type": "code",
   "execution_count": 9,
   "metadata": {},
   "outputs": [],
   "source": [
    "df = pd.DataFrame(house_dict)"
   ]
  },
  {
   "cell_type": "code",
   "execution_count": 10,
   "metadata": {},
   "outputs": [],
   "source": [
    "df.to_csv('data/raw_zillow_data_full_raw.csv')"
   ]
  },
  {
   "cell_type": "code",
   "execution_count": 13,
   "metadata": {},
   "outputs": [
    {
     "data": {
      "text/html": [
       "<div>\n",
       "<style scoped>\n",
       "    .dataframe tbody tr th:only-of-type {\n",
       "        vertical-align: middle;\n",
       "    }\n",
       "\n",
       "    .dataframe tbody tr th {\n",
       "        vertical-align: top;\n",
       "    }\n",
       "\n",
       "    .dataframe thead th {\n",
       "        text-align: right;\n",
       "    }\n",
       "</style>\n",
       "<table border=\"1\" class=\"dataframe\">\n",
       "  <thead>\n",
       "    <tr style=\"text-align: right;\">\n",
       "      <th></th>\n",
       "      <th>address</th>\n",
       "      <th>type</th>\n",
       "      <th>price</th>\n",
       "      <th>features</th>\n",
       "      <th>labels</th>\n",
       "    </tr>\n",
       "  </thead>\n",
       "  <tbody>\n",
       "    <tr>\n",
       "      <th>0</th>\n",
       "      <td>9177 Collington Sq, Allison Park, PA 15101</td>\n",
       "      <td>Townhouse for rent</td>\n",
       "      <td>$1,550/mo</td>\n",
       "      <td>[3, 1.5, 1,404]</td>\n",
       "      <td>[sqft, ba, bds]</td>\n",
       "    </tr>\n",
       "    <tr>\n",
       "      <th>1</th>\n",
       "      <td>400 Chapel Rd, Center Township, PA 15101</td>\n",
       "      <td>House for sale</td>\n",
       "      <td>$235,000</td>\n",
       "      <td>[3, 2, 3,648]</td>\n",
       "      <td>[sqft, ba, bds]</td>\n",
       "    </tr>\n",
       "    <tr>\n",
       "      <th>2</th>\n",
       "      <td>9003 Elm St, Allison Park, PA 15101</td>\n",
       "      <td>House for sale</td>\n",
       "      <td>$199,900</td>\n",
       "      <td>[3, 2, 1,238]</td>\n",
       "      <td>[sqft, ba, bds]</td>\n",
       "    </tr>\n",
       "    <tr>\n",
       "      <th>3</th>\n",
       "      <td>1111 Burchfield Rd, Allison Park, PA 15101</td>\n",
       "      <td>House for sale</td>\n",
       "      <td>$625,000</td>\n",
       "      <td>[3, 4, 2,527]</td>\n",
       "      <td>[sqft, ba, bds]</td>\n",
       "    </tr>\n",
       "    <tr>\n",
       "      <th>4</th>\n",
       "      <td>1865 Concord Dr, Allison Park, PA 15101</td>\n",
       "      <td>House for sale</td>\n",
       "      <td>$269,900</td>\n",
       "      <td>[4, 3, 2,214]</td>\n",
       "      <td>[sqft, ba, bds]</td>\n",
       "    </tr>\n",
       "  </tbody>\n",
       "</table>\n",
       "</div>"
      ],
      "text/plain": [
       "                                      address                type      price  \\\n",
       "0  9177 Collington Sq, Allison Park, PA 15101  Townhouse for rent  $1,550/mo   \n",
       "1    400 Chapel Rd, Center Township, PA 15101      House for sale   $235,000   \n",
       "2         9003 Elm St, Allison Park, PA 15101      House for sale   $199,900   \n",
       "3  1111 Burchfield Rd, Allison Park, PA 15101      House for sale   $625,000   \n",
       "4     1865 Concord Dr, Allison Park, PA 15101      House for sale   $269,900   \n",
       "\n",
       "          features           labels  \n",
       "0  [3, 1.5, 1,404]  [sqft, ba, bds]  \n",
       "1    [3, 2, 3,648]  [sqft, ba, bds]  \n",
       "2    [3, 2, 1,238]  [sqft, ba, bds]  \n",
       "3    [3, 4, 2,527]  [sqft, ba, bds]  \n",
       "4    [4, 3, 2,214]  [sqft, ba, bds]  "
      ]
     },
     "execution_count": 13,
     "metadata": {},
     "output_type": "execute_result"
    }
   ],
   "source": [
    "df.head()"
   ]
  }
 ],
 "metadata": {
  "kernelspec": {
   "display_name": "Python 3",
   "language": "python",
   "name": "python3"
  },
  "language_info": {
   "codemirror_mode": {
    "name": "ipython",
    "version": 3
   },
   "file_extension": ".py",
   "mimetype": "text/x-python",
   "name": "python",
   "nbconvert_exporter": "python",
   "pygments_lexer": "ipython3",
   "version": "3.6.5"
  }
 },
 "nbformat": 4,
 "nbformat_minor": 2
}
